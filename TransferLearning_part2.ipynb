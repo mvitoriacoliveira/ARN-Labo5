{
 "cells": [
  {
   "cell_type": "code",
   "execution_count": null,
   "metadata": {},
   "outputs": [],
   "source": [
    "%pip install tf_keras_vis tflite-support-nightly"
   ]
  },
  {
   "cell_type": "markdown",
   "metadata": {
    "id": "sA3RxSK0zddM"
   },
   "source": [
    "# Create your dataset"
   ]
  },
  {
   "cell_type": "markdown",
   "metadata": {
    "id": "jFDIXDGrBnZr"
   },
   "source": [
    "1) Choose which classes you would like to add.\n",
    "\n",
    "2) Create a dataset with your own photos\n",
    "\n",
    "3) Separate your dataset into train and test subsets."
   ]
  },
  {
   "cell_type": "code",
   "execution_count": null,
   "metadata": {},
   "outputs": [],
   "source": [
    "import os\n",
    "import pandas as pd\n",
    "from glob import glob\n",
    "\n",
    "def create_dataframe_from_directories(path):\n",
    "    data = []\n",
    "\n",
    "    for label_dir in os.listdir(path):\n",
    "        if os.path.isfile(label_dir):\n",
    "            continue\n",
    "\n",
    "        label_path_path = os.path.join(path, label_dir)\n",
    "        for file in os.listdir(label_path_path):\n",
    "            data.append([os.path.join(label_path_path, file), label_dir])\n",
    "        \n",
    "    return pd.DataFrame(data, columns = [\"path\", \"label\"])"
   ]
  },
  {
   "cell_type": "code",
   "execution_count": null,
   "metadata": {},
   "outputs": [],
   "source": [
    "train_df = create_dataframe_from_directories(\"dataset_train\")\n",
    "test_df = create_dataframe_from_directories(\"dataset_test\")"
   ]
  },
  {
   "cell_type": "code",
   "execution_count": null,
   "metadata": {},
   "outputs": [],
   "source": [
    "LABEL_NAMES = pd.unique(train_df['label'])\n",
    "LABEL_NAMES"
   ]
  },
  {
   "cell_type": "markdown",
   "metadata": {},
   "source": [
    "**TODO**: Display some images of your dataset"
   ]
  },
  {
   "cell_type": "markdown",
   "metadata": {},
   "source": [
    "# Explore your dataset"
   ]
  },
  {
   "cell_type": "markdown",
   "metadata": {},
   "source": [
    "**TODO**: count the number of examples per classes and plot an histogram of it"
   ]
  },
  {
   "cell_type": "markdown",
   "metadata": {
    "id": "nQXdMzfvBTzY"
   },
   "source": [
    "# Preprocessing steps"
   ]
  },
  {
   "cell_type": "code",
   "execution_count": null,
   "metadata": {},
   "outputs": [],
   "source": [
    "from tensorflow.keras.layers import (\n",
    "    Resizing, Rescaling,\n",
    ")\n",
    "\n",
    "from tensorflow.keras import Sequential\n",
    "\n",
    "IMG_HEIGHT = 224\n",
    "IMG_WIDTH = 224\n",
    "\n",
    "image_preprocesses = Sequential([\n",
    "    Resizing(IMG_HEIGHT, IMG_WIDTH, crop_to_aspect_ratio=True),\n",
    "    Rescaling(1. / 255)\n",
    "])\n",
    "\n",
    "image_augmentations = Sequential([\n",
    "    # TODO: choose some image augmentations layers\n",
    "    # see which keras layers you can use\n",
    "    # The kind of layers you will want to use starts with \"Random\".\n",
    "    # See the following page for more information on data augmentation :\n",
    "    # https://www.tensorflow.org/tutorials/images/data_augmentation\n",
    "])\n",
    "\n",
    "def open_images(paths):\n",
    "    return np.stack([\n",
    "        open_image(path) for path in paths\n",
    "    ])\n",
    "\n",
    "def open_image(path):\n",
    "    with PIL.Image.open(path) as image:\n",
    "        opened_img = image_preprocesses(np.asarray(image))\n",
    "    \n",
    "    return opened_img\n",
    "\n",
    "def augment_images(images):\n",
    "    return np.stack([\n",
    "        image_augmentations(img) for img in images\n",
    "    ])"
   ]
  },
  {
   "cell_type": "markdown",
   "metadata": {},
   "source": [
    "**TODO**: plot examples of preprocessed and augmented images"
   ]
  },
  {
   "cell_type": "markdown",
   "metadata": {
    "id": "89Ax4I4pB0ph"
   },
   "source": [
    "## Define model"
   ]
  },
  {
   "cell_type": "code",
   "execution_count": null,
   "metadata": {},
   "outputs": [],
   "source": [
    "from tensorflow.keras.applications import MobileNetV2\n",
    "from tensorflow.keras.optimizers import RMSprop\n",
    "from tensorflow.keras.losses import SparseCategoricalCrossentropy\n",
    "from tensorflow.keras import Model\n",
    "from tensorflow.keras.layers import (\n",
    "    GlobalAveragePooling2D,\n",
    "    Dense,\n",
    "    Dropout\n",
    ")\n",
    "\n",
    "def get_model():\n",
    "    base_model = MobileNetV2(\n",
    "        input_shape=(224, 224, 3),\n",
    "        weights='imagenet',\n",
    "        include_top=False\n",
    "    )\n",
    "    \n",
    "    layers = base_model.output\n",
    "\n",
    "    added_layers = [\n",
    "        # important, we need global average pooling instead of flatten for class activation map later on \n",
    "        GlobalAveragePooling2D(), \n",
    "        # TODO: ...\n",
    "    ]\n",
    "\n",
    "    model = Model(inputs=base_model.input, outputs=Sequential(added_layers)(layers))\n",
    "\n",
    "    # TODO: freeze layers\n",
    "    \n",
    "    model.compile(\n",
    "      optimizer = RMSprop(),\n",
    "      loss = SparseCategoricalCrossentropy(),\n",
    "      metrics = ['acc']\n",
    "    )\n",
    "        \n",
    "    return model"
   ]
  },
  {
   "cell_type": "code",
   "execution_count": null,
   "metadata": {},
   "outputs": [],
   "source": [
    "get_model().summary()"
   ]
  },
  {
   "cell_type": "markdown",
   "metadata": {
    "id": "-5zzw6-ULI_y"
   },
   "source": [
    "# Model training"
   ]
  },
  {
   "cell_type": "markdown",
   "metadata": {},
   "source": [
    "**TODO**: cross-validate your model, you can base yourself on the code from the first part of this practical work\n",
    "\n",
    "**NOTE**: you shouldn't augment validations images. What we want to evaluate is the performances on \"real\" images, not on images that are augmented and change all the time "
   ]
  },
  {
   "cell_type": "markdown",
   "metadata": {},
   "source": [
    "# Results"
   ]
  },
  {
   "cell_type": "markdown",
   "metadata": {},
   "source": [
    "**TODO**: plot the results from your crossvalidation"
   ]
  },
  {
   "cell_type": "markdown",
   "metadata": {},
   "source": [
    "## Evaluate model on test set"
   ]
  },
  {
   "cell_type": "markdown",
   "metadata": {},
   "source": [
    "**TODO**: when you've selected a final model, evaluate its performances (f-score, confusion matrix, ...) on your test set"
   ]
  },
  {
   "cell_type": "markdown",
   "metadata": {},
   "source": [
    "### Display some misclassified images"
   ]
  },
  {
   "cell_type": "markdown",
   "metadata": {},
   "source": [
    "**TODO**: display some misclassified images to be able to see what images are difficult for the model"
   ]
  },
  {
   "cell_type": "markdown",
   "metadata": {},
   "source": [
    "## Use grad-cam to inspect how the model classify\n",
    "Here we can see an heatmap of the regions that activates the model the most.\n",
    "\n",
    "### For more information:\n",
    "- tf-keras-vis documentation: https://keisen.github.io/tf-keras-vis-docs/\n",
    "- Grad-cam paper: https://arxiv.org/pdf/1610.02391.pdf\n",
    "- Grad-cam++ paper: https://arxiv.org/pdf/1710.11063.pdf"
   ]
  },
  {
   "cell_type": "markdown",
   "metadata": {},
   "source": [
    "**NOTE**: maybe you will need to adapt some variable names based on your code above. For example, _model_ should be the model trained on all the training data. "
   ]
  },
  {
   "cell_type": "code",
   "execution_count": null,
   "metadata": {
    "scrolled": false
   },
   "outputs": [],
   "source": [
    "import numpy as np\n",
    "from matplotlib import pyplot as plt\n",
    "from matplotlib import cm\n",
    "from tensorflow.keras.applications import MobileNetV2\n",
    "from tf_keras_vis.gradcam_plus_plus import GradcamPlusPlus\n",
    "from tf_keras_vis.utils.model_modifiers import ReplaceToLinear\n",
    "from tf_keras_vis.utils.scores import CategoricalScore\n",
    "\n",
    "# Create GradCAM++ object\n",
    "gradcam = GradcamPlusPlus(\n",
    "    model,\n",
    "    model_modifier=ReplaceToLinear(),\n",
    "    clone=True,\n",
    ")\n",
    "\n",
    "nb_images_per_class = 10\n",
    "\n",
    "fig, axs = plt.subplots(nb_images_per_class, len(LABEL_NAMES), figsize=(len(LABEL_NAMES) * 5, nb_images_per_class * 5))\n",
    "\n",
    "for label_idx, label_name in enumerate(LABEL_NAMES):\n",
    "    axs[0,label_idx].set_title(label_name, loc='center', y=1.1)\n",
    "    \n",
    "    i = 0\n",
    "    for _, rowdata in train_df[train_df['label'] == label_name].sample(frac=1).head(nb_images_per_class).iterrows():\n",
    "        img = open_image(rowdata.path)    \n",
    "        pred = model(np.expand_dims(img, axis=0))\n",
    "\n",
    "        # Generate cam with GradCAM++\n",
    "        score = CategoricalScore(np.argmax(pred))\n",
    "        cam = gradcam(score, img)\n",
    "        heatmap = np.uint8(cm.jet(cam[0])[..., :3] * 255)\n",
    "\n",
    "        axs[i,label_idx].imshow(img, vmin=0, vmax=1)\n",
    "        axs[i,label_idx].imshow(heatmap, cmap='jet', alpha=0.5) # overlay\n",
    "        axs[i,label_idx].axis(\"off\")\n",
    "\n",
    "        i += 1"
   ]
  },
  {
   "cell_type": "markdown",
   "metadata": {},
   "source": [
    "### Grad-cam on misclassified images"
   ]
  },
  {
   "cell_type": "markdown",
   "metadata": {},
   "source": [
    "**TODO**: now do the same than above, but with the misclassified images. You shouldn't change anything pertaining to grad-cam besides on which image and prediction you do it"
   ]
  },
  {
   "cell_type": "markdown",
   "metadata": {},
   "source": [
    "**TODO**: try to determine what caused the misclassifcations and what you can do about it"
   ]
  }
 ],
 "metadata": {
  "accelerator": "GPU",
  "colab": {
   "collapsed_sections": [],
   "name": "TransferLearning.ipynb",
   "provenance": []
  },
  "kernelspec": {
   "display_name": "Python 3 (ipykernel)",
   "language": "python",
   "name": "python3"
  },
  "language_info": {
   "codemirror_mode": {
    "name": "ipython",
    "version": 3
   },
   "file_extension": ".py",
   "mimetype": "text/x-python",
   "name": "python",
   "nbconvert_exporter": "python",
   "pygments_lexer": "ipython3",
   "version": "3.9.7"
  }
 },
 "nbformat": 4,
 "nbformat_minor": 1
}
