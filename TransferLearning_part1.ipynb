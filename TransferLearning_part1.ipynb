{
 "cells": [
  {
   "cell_type": "markdown",
   "metadata": {},
   "source": [
    "## Let's create a dataset by downloading images from Bing"
   ]
  },
  {
   "cell_type": "code",
   "execution_count": null,
   "metadata": {},
   "outputs": [],
   "source": [
    "!pip install bing-image-downloader==1.0.4\n",
    "\n",
    "from bing_image_downloader import downloader"
   ]
  },
  {
   "cell_type": "code",
   "execution_count": null,
   "metadata": {},
   "outputs": [],
   "source": [
    "QUERIES = [\"Mésange noire\", \"Mésange charbonnière\", \"Moineau\"]\n",
    "OUTPUT_DIR = 'dataset_images'\n",
    "NB_IMAGES = 50\n",
    "\n",
    "for query in QUERIES:\n",
    "    downloader.download(\n",
    "        query, NB_IMAGES, OUTPUT_DIR,\n",
    "        adult_filter_off=False, force_replace=False, timeout=15\n",
    "    )"
   ]
  },
  {
   "cell_type": "markdown",
   "metadata": {},
   "source": [
    "### Generate a dataframe from the downloaded images"
   ]
  },
  {
   "cell_type": "code",
   "execution_count": null,
   "metadata": {},
   "outputs": [],
   "source": [
    "import os\n",
    "import pandas as pd\n",
    "from glob import glob\n",
    "\n",
    "data = []\n",
    "\n",
    "for label_dir in os.listdir(OUTPUT_DIR):\n",
    "    if os.path.isfile(label_dir):\n",
    "        continue\n",
    "    \n",
    "    label_path_path = os.path.join(OUTPUT_DIR, label_dir)\n",
    "    for file in os.listdir(label_path_path):\n",
    "        data.append([os.path.join(label_path_path, file), label_dir])\n",
    "        \n",
    "dataframe = pd.DataFrame(data, columns = [\"path\", \"label\"])\n",
    "dataframe"
   ]
  },
  {
   "cell_type": "markdown",
   "metadata": {},
   "source": [
    "### Show some images of the dataset"
   ]
  },
  {
   "cell_type": "code",
   "execution_count": null,
   "metadata": {},
   "outputs": [],
   "source": [
    "import matplotlib.pyplot as plt\n",
    "import PIL\n",
    "import PIL.Image\n",
    " \n",
    "plt.figure(figsize=(20, 20))\n",
    "\n",
    "i = 0\n",
    "for _, rowdata in dataframe.sample(frac=1).head(9).iterrows():\n",
    "    ax = plt.subplot(3, 3, i + 1)\n",
    "    plt.imshow(PIL.Image.open(rowdata.path))\n",
    "    plt.title(rowdata.label)\n",
    "    plt.axis(\"off\")\n",
    "    i += 1"
   ]
  },
  {
   "cell_type": "markdown",
   "metadata": {},
   "source": [
    "## Fetch MobileNetV2 model"
   ]
  },
  {
   "cell_type": "code",
   "execution_count": null,
   "metadata": {},
   "outputs": [],
   "source": [
    "from tensorflow.keras.applications import MobileNetV2\n",
    "\n",
    "base_model = MobileNetV2(\n",
    "    input_shape=(224, 224, 3),\n",
    "    weights='imagenet',\n",
    "    include_top=False # We don't want to include the fully-connected layers\n",
    ")"
   ]
  },
  {
   "cell_type": "code",
   "execution_count": null,
   "metadata": {},
   "outputs": [],
   "source": [
    "# You can see the list of layers of this model\n",
    "base_model.layers"
   ]
  },
  {
   "cell_type": "code",
   "execution_count": null,
   "metadata": {},
   "outputs": [],
   "source": [
    "from tensorflow.keras.optimizers import RMSprop\n",
    "from tensorflow.keras.losses import SparseCategoricalCrossentropy\n",
    "from tensorflow.keras import Model\n",
    "from tensorflow.keras.layers import (\n",
    "    Flatten,\n",
    "    Dense,\n",
    "    Dropout\n",
    ")\n",
    "\n",
    "def get_model():\n",
    "    # We want to add layers on top of the base (here MobileNetV2) model\n",
    "    layers = base_model.output\n",
    "\n",
    "    # We need to flatten\n",
    "    layers = Flatten()(layers)\n",
    "\n",
    "    # TODO: add some dense layers here\n",
    "\n",
    "    # We must add an output layer\n",
    "    output = Dense(len(QUERIES), activation='softmax')(layers) # final layer with softmax activation\n",
    "\n",
    "    model = Model(inputs=base_model.input, outputs=output)\n",
    "\n",
    "    # TODO: freeze the base model layers (not the layers you've added obviously)\n",
    "    # NOTE:\n",
    "    # to feeze a layer you can set its trainable flag to False (e.g. layer.trainable = False)\n",
    "    # to get a list of the model layers you can do model.layers\n",
    "\n",
    "    model.compile(\n",
    "      optimizer = RMSprop(),\n",
    "      # Sparse categorical crossentropy is used when we have target class as integers\n",
    "      loss = SparseCategoricalCrossentropy(),\n",
    "      metrics = ['acc']\n",
    "    )\n",
    "        \n",
    "    return model"
   ]
  },
  {
   "cell_type": "code",
   "execution_count": null,
   "metadata": {},
   "outputs": [],
   "source": [
    "get_model().summary()"
   ]
  },
  {
   "cell_type": "markdown",
   "metadata": {},
   "source": [
    "## Cross validate model"
   ]
  },
  {
   "cell_type": "code",
   "execution_count": null,
   "metadata": {},
   "outputs": [],
   "source": [
    "from tensorflow.keras.layers import Resizing, Rescaling\n",
    "from tensorflow.keras import Sequential\n",
    "\n",
    "IMG_HEIGHT = 224\n",
    "IMG_WIDTH = 224\n",
    "\n",
    "image_preprocesses = Sequential([\n",
    "    Resizing(IMG_HEIGHT, IMG_WIDTH, crop_to_aspect_ratio=True),\n",
    "    Rescaling(1. / 255)\n",
    "])"
   ]
  },
  {
   "cell_type": "code",
   "execution_count": null,
   "metadata": {},
   "outputs": [],
   "source": [
    "def open_images(paths):\n",
    "    images = []\n",
    "    for path in paths:\n",
    "        with PIL.Image.open(path).convert('RGB') as image:\n",
    "            images.append(image_preprocesses(np.asarray(image)))\n",
    "            \n",
    "    return np.stack(images)"
   ]
  },
  {
   "cell_type": "code",
   "execution_count": null,
   "metadata": {},
   "outputs": [],
   "source": [
    "import numpy as np\n",
    "import tensorflow as tf\n",
    "from sklearn.model_selection import KFold\n",
    "from sklearn.preprocessing import LabelEncoder\n",
    "from sklearn.model_selection import train_test_split\n",
    "\n",
    "shuffled_dataset = dataframe.sample(frac=1, random_state=1234).reset_index(drop=True)\n",
    "\n",
    "dataset_paths = shuffled_dataset['path'].to_numpy()\n",
    "dataset_labels = shuffled_dataset['label'].to_numpy()\n",
    "\n",
    "total_train_paths, test_paths, total_train_labels, test_labels = train_test_split(\n",
    "    dataset_paths, dataset_labels, test_size=0.2, random_state=1234\n",
    ")\n",
    "\n",
    "# We need to convert from string labels to integers\n",
    "label_encoder = LabelEncoder()\n",
    "label_encoder.fit(dataset_labels)\n",
    "total_train_labels = label_encoder.transform(total_train_labels)\n",
    "test_labels = label_encoder.transform(test_labels)\n",
    "\n",
    "NB_EPOCHS = 4\n",
    "\n",
    "train_losses = []\n",
    "train_accuracies = []\n",
    "val_losses = []\n",
    "val_accuracies = []\n",
    "\n",
    "for train_index, val_index in KFold(n_splits=5).split(total_train_paths, total_train_labels):\n",
    "    train_images = open_images(total_train_paths[train_index])    \n",
    "    train_labels = total_train_labels[train_index]\n",
    "    \n",
    "    val_images = open_images(total_train_paths[val_index])\n",
    "    val_labels = total_train_labels[val_index]\n",
    "    \n",
    "    model = get_model() # We reinitialize the model\n",
    "    \n",
    "    history = model.fit(\n",
    "        x=train_images,\n",
    "        y=train_labels,\n",
    "        batch_size=32,\n",
    "        validation_data=[val_images, val_labels],\n",
    "        epochs=NB_EPOCHS,\n",
    "    )\n",
    "    \n",
    "    train_losses.append(history.history['loss'])\n",
    "    val_losses.append(history.history['val_loss'])\n",
    "    train_accuracies.append(history.history['acc'])\n",
    "    val_accuracies.append(history.history['val_acc'])"
   ]
  },
  {
   "cell_type": "code",
   "execution_count": null,
   "metadata": {},
   "outputs": [],
   "source": [
    "def plot_kfold_mean_performance(ax, train_performances, val_performances, measure_name):\n",
    "    train_mean = np.mean(train_performances, axis=0)\n",
    "    val_mean = np.mean(val_performances, axis=0)\n",
    "    train_sd = np.std(train_performances, axis=0)\n",
    "    val_sd = np.std(val_performances, axis=0)\n",
    "    \n",
    "    ax.fill_between(np.arange(NB_EPOCHS), train_mean, train_mean+train_sd, facecolor='blue', alpha=0.5, label='Train')\n",
    "    ax.fill_between(np.arange(NB_EPOCHS), train_mean, train_mean-train_sd, facecolor='blue', alpha=0.5)\n",
    "\n",
    "    ax.fill_between(np.arange(NB_EPOCHS), val_mean, val_mean+val_sd, facecolor='orange', alpha=0.5, label='Val')\n",
    "    ax.fill_between(np.arange(NB_EPOCHS), val_mean, val_mean-val_sd, facecolor='orange', alpha=0.5)\n",
    "\n",
    "    ax.set_xticks(np.arange(NB_EPOCHS))\n",
    "\n",
    "    ax.set_ylabel(measure_name)\n",
    "    ax.set_xlabel('Number of epochs')\n",
    "    #pl.title(str(K)+'-fold CV with '+str(n)+' hidden neurons')\n",
    "    ax.legend()\n",
    "    ax.grid()\n"
   ]
  },
  {
   "cell_type": "code",
   "execution_count": null,
   "metadata": {},
   "outputs": [],
   "source": [
    "import matplotlib.pyplot as pl\n",
    "\n",
    "fig, axs = plt.subplots(2, 1, constrained_layout=True, figsize=(12,6))\n",
    "\n",
    "plot_kfold_mean_performance(axs[0], train_losses, val_losses, \"Loss\")\n",
    "plot_kfold_mean_performance(axs[1], train_accuracies, val_accuracies, \"Accuracy\")"
   ]
  },
  {
   "cell_type": "markdown",
   "metadata": {},
   "source": [
    "## Evaluate model on test set"
   ]
  },
  {
   "cell_type": "code",
   "execution_count": null,
   "metadata": {},
   "outputs": [],
   "source": [
    "# First retrain model on all the training data\n",
    "train_images = open_images(total_train_paths)    \n",
    "train_labels = total_train_labels\n",
    "\n",
    "model = get_model() # We reinitialize the model\n",
    "\n",
    "history = model.fit(\n",
    "    x=train_images,\n",
    "    y=train_labels,\n",
    "    batch_size=32,\n",
    "    epochs=NB_EPOCHS,\n",
    ")"
   ]
  },
  {
   "cell_type": "code",
   "execution_count": null,
   "metadata": {},
   "outputs": [],
   "source": [
    "# Empty a bit the memory\n",
    "import gc\n",
    "\n",
    "del train_images\n",
    "del train_labels\n",
    "gc.collect()"
   ]
  },
  {
   "cell_type": "code",
   "execution_count": null,
   "metadata": {},
   "outputs": [],
   "source": [
    "import sklearn.metrics as me\n",
    "\n",
    "test_images = open_images(test_paths)    \n",
    "\n",
    "pred = model.predict(test_images)\n",
    "pred = np.argmax(pred, axis=-1)\n",
    "\n",
    "test_confusion_matrix = me.confusion_matrix(test_labels, pred, labels=np.arange(len(QUERIES)))"
   ]
  },
  {
   "cell_type": "code",
   "execution_count": null,
   "metadata": {},
   "outputs": [],
   "source": [
    "confusion_matrix_display = me.ConfusionMatrixDisplay(\n",
    "    confusion_matrix=test_confusion_matrix,\n",
    "    display_labels=QUERIES,\n",
    ")\n",
    "\n",
    "confusion_matrix_display.plot(xticks_rotation='vertical')\n",
    "plt.show()"
   ]
  }
 ],
 "metadata": {
  "accelerator": "GPU",
  "colab": {
   "collapsed_sections": [],
   "name": "TransferLearning.ipynb",
   "provenance": []
  },
  "kernelspec": {
   "display_name": "Python 3 (ipykernel)",
   "language": "python",
   "name": "python3"
  },
  "language_info": {
   "codemirror_mode": {
    "name": "ipython",
    "version": 3
   },
   "file_extension": ".py",
   "mimetype": "text/x-python",
   "name": "python",
   "nbconvert_exporter": "python",
   "pygments_lexer": "ipython3",
   "version": "3.11.5"
  }
 },
 "nbformat": 4,
 "nbformat_minor": 4
}
